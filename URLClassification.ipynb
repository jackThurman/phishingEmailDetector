{
 "cells": [
  {
   "cell_type": "code",
   "execution_count": 3,
   "metadata": {},
   "outputs": [],
   "source": [
    "import pandas as pd"
   ]
  },
  {
   "cell_type": "code",
   "execution_count": 4,
   "metadata": {},
   "outputs": [
    {
     "data": {
      "text/html": [
       "<div>\n",
       "<style scoped>\n",
       "    .dataframe tbody tr th:only-of-type {\n",
       "        vertical-align: middle;\n",
       "    }\n",
       "\n",
       "    .dataframe tbody tr th {\n",
       "        vertical-align: top;\n",
       "    }\n",
       "\n",
       "    .dataframe thead th {\n",
       "        text-align: right;\n",
       "    }\n",
       "</style>\n",
       "<table border=\"1\" class=\"dataframe\">\n",
       "  <thead>\n",
       "    <tr style=\"text-align: right;\">\n",
       "      <th></th>\n",
       "      <th>URL</th>\n",
       "      <th>label</th>\n",
       "    </tr>\n",
       "  </thead>\n",
       "  <tbody>\n",
       "    <tr>\n",
       "      <th>138818</th>\n",
       "      <td>http://www.ns1.timedate2.com</td>\n",
       "      <td>0</td>\n",
       "    </tr>\n",
       "    <tr>\n",
       "      <th>222891</th>\n",
       "      <td>https://www.rivresources.com</td>\n",
       "      <td>1</td>\n",
       "    </tr>\n",
       "    <tr>\n",
       "      <th>40952</th>\n",
       "      <td>https://www.muzi.com</td>\n",
       "      <td>1</td>\n",
       "    </tr>\n",
       "    <tr>\n",
       "      <th>47361</th>\n",
       "      <td>http://www.1e90ff.com</td>\n",
       "      <td>0</td>\n",
       "    </tr>\n",
       "    <tr>\n",
       "      <th>92160</th>\n",
       "      <td>https://ipfs.litnet.work/ipfs/bafybeia4ghp5o72...</td>\n",
       "      <td>0</td>\n",
       "    </tr>\n",
       "  </tbody>\n",
       "</table>\n",
       "</div>"
      ],
      "text/plain": [
       "                                                      URL  label\n",
       "138818                       http://www.ns1.timedate2.com      0\n",
       "222891                       https://www.rivresources.com      1\n",
       "40952                                https://www.muzi.com      1\n",
       "47361                               http://www.1e90ff.com      0\n",
       "92160   https://ipfs.litnet.work/ipfs/bafybeia4ghp5o72...      0"
      ]
     },
     "execution_count": 4,
     "metadata": {},
     "output_type": "execute_result"
    }
   ],
   "source": [
    "urls = pd.read_csv('Datasets/URL/phishingAndLegitURL.csv')\n",
    "urlData = urls.drop(['FILENAME', 'URLLength', 'Domain', 'DomainLength', 'IsDomainIP',\n",
    "       'TLD', 'URLSimilarityIndex', 'CharContinuationRate',\n",
    "       'TLDLegitimateProb', 'URLCharProb', 'TLDLength', 'NoOfSubDomain',\n",
    "       'HasObfuscation', 'NoOfObfuscatedChar', 'ObfuscationRatio',\n",
    "       'NoOfLettersInURL', 'LetterRatioInURL', 'NoOfDegitsInURL',\n",
    "       'DegitRatioInURL', 'NoOfEqualsInURL', 'NoOfQMarkInURL',\n",
    "       'NoOfAmpersandInURL', 'NoOfOtherSpecialCharsInURL',\n",
    "       'SpacialCharRatioInURL', 'IsHTTPS', 'LineOfCode', 'LargestLineLength',\n",
    "       'HasTitle', 'Title', 'DomainTitleMatchScore', 'URLTitleMatchScore',\n",
    "       'HasFavicon', 'Robots', 'IsResponsive', 'NoOfURLRedirect',\n",
    "       'NoOfSelfRedirect', 'HasDescription', 'NoOfPopup', 'NoOfiFrame',\n",
    "       'HasExternalFormSubmit', 'HasSocialNet', 'HasSubmitButton',\n",
    "       'HasHiddenFields', 'HasPasswordField', 'Bank', 'Pay', 'Crypto',\n",
    "       'HasCopyrightInfo', 'NoOfImage', 'NoOfCSS', 'NoOfJS', 'NoOfSelfRef',\n",
    "       'NoOfEmptyRef', 'NoOfExternalRef'],axis=1)\n",
    "urlData\n",
    "urlData.sample(5)"
   ]
  },
  {
   "cell_type": "markdown",
   "metadata": {},
   "source": [
    "Balance label weight"
   ]
  },
  {
   "cell_type": "code",
   "execution_count": 7,
   "metadata": {},
   "outputs": [
    {
     "name": "stdout",
     "output_type": "stream",
     "text": [
      "Safe URLs: 100945\n",
      "Phishing URLs: 134850\n",
      "Safe URLs: 100945\n",
      "Phishing URLs: 100945\n"
     ]
    }
   ],
   "source": [
    "safeURL = urlData.loc[urlData['label'] == 0]\n",
    "phishingURL = urlData.loc[urlData['label'] == 1]\n",
    "print('Safe URLs: 'f'{safeURL.shape[0]}')\n",
    "print('Phishing URLs: 'f'{phishingURL.shape[0]}')\n",
    "\n",
    "phishingURL = phishingURL.head(safeURL.shape[0])\n",
    "print('Safe URLs: 'f'{safeURL.shape[0]}')\n",
    "print('Phishing URLs: 'f'{phishingURL.shape[0]}')\n",
    "\n"
   ]
  },
  {
   "cell_type": "markdown",
   "metadata": {},
   "source": [
    "Recombine Sets"
   ]
  },
  {
   "cell_type": "code",
   "execution_count": 10,
   "metadata": {},
   "outputs": [],
   "source": [
    "combinedURL = pd.concat([safeURL,phishingURL],axis=0)\n",
    "\n",
    "combinedURL.to_csv('CleanedURL.csv', index=False)\n"
   ]
  },
  {
   "cell_type": "code",
   "execution_count": null,
   "metadata": {},
   "outputs": [],
   "source": []
  }
 ],
 "metadata": {
  "kernelspec": {
   "display_name": ".venv",
   "language": "python",
   "name": "python3"
  },
  "language_info": {
   "codemirror_mode": {
    "name": "ipython",
    "version": 3
   },
   "file_extension": ".py",
   "mimetype": "text/x-python",
   "name": "python",
   "nbconvert_exporter": "python",
   "pygments_lexer": "ipython3",
   "version": "3.11.0"
  }
 },
 "nbformat": 4,
 "nbformat_minor": 2
}
